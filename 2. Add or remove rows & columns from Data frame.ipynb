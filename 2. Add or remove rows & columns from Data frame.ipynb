{
 "cells": [
  {
   "cell_type": "code",
   "execution_count": 1,
   "id": "b2b76628",
   "metadata": {},
   "outputs": [],
   "source": [
    "people = {\"First_name\" : [\"Haripriya\",\"Sathish\",\"xyz\"],\n",
    "          \"Last_name\" : [\"karuna\",\"karuna\",\"abc\"],\n",
    "          \"email\" : [\"haripriya@gmail.com\",\"sathish@gmail.com\",\"xyzabc@gmail.com\"]}"
   ]
  },
  {
   "cell_type": "code",
   "execution_count": 2,
   "id": "c8d10a81",
   "metadata": {},
   "outputs": [
    {
     "data": {
      "text/html": [
       "<div>\n",
       "<style scoped>\n",
       "    .dataframe tbody tr th:only-of-type {\n",
       "        vertical-align: middle;\n",
       "    }\n",
       "\n",
       "    .dataframe tbody tr th {\n",
       "        vertical-align: top;\n",
       "    }\n",
       "\n",
       "    .dataframe thead th {\n",
       "        text-align: right;\n",
       "    }\n",
       "</style>\n",
       "<table border=\"1\" class=\"dataframe\">\n",
       "  <thead>\n",
       "    <tr style=\"text-align: right;\">\n",
       "      <th></th>\n",
       "      <th>First_name</th>\n",
       "      <th>Last_name</th>\n",
       "      <th>email</th>\n",
       "    </tr>\n",
       "  </thead>\n",
       "  <tbody>\n",
       "    <tr>\n",
       "      <th>0</th>\n",
       "      <td>Haripriya</td>\n",
       "      <td>karuna</td>\n",
       "      <td>haripriya@gmail.com</td>\n",
       "    </tr>\n",
       "    <tr>\n",
       "      <th>1</th>\n",
       "      <td>Sathish</td>\n",
       "      <td>karuna</td>\n",
       "      <td>sathish@gmail.com</td>\n",
       "    </tr>\n",
       "    <tr>\n",
       "      <th>2</th>\n",
       "      <td>xyz</td>\n",
       "      <td>abc</td>\n",
       "      <td>xyzabc@gmail.com</td>\n",
       "    </tr>\n",
       "  </tbody>\n",
       "</table>\n",
       "</div>"
      ],
      "text/plain": [
       "  First_name Last_name                email\n",
       "0  Haripriya    karuna  haripriya@gmail.com\n",
       "1    Sathish    karuna    sathish@gmail.com\n",
       "2        xyz       abc     xyzabc@gmail.com"
      ]
     },
     "execution_count": 2,
     "metadata": {},
     "output_type": "execute_result"
    }
   ],
   "source": [
    "import pandas as pd\n",
    "df = pd.DataFrame(people)\n",
    "df"
   ]
  },
  {
   "cell_type": "code",
   "execution_count": 3,
   "id": "d493b4ea",
   "metadata": {},
   "outputs": [
    {
     "data": {
      "text/plain": [
       "0    Haripriya karuna\n",
       "1      Sathish karuna\n",
       "2             xyz abc\n",
       "dtype: object"
      ]
     },
     "execution_count": 3,
     "metadata": {},
     "output_type": "execute_result"
    }
   ],
   "source": [
    "# to combine two columns and create it as new column\n",
    "\n",
    "df[\"First_name\"] + \" \" + df[\"Last_name\"]"
   ]
  },
  {
   "cell_type": "code",
   "execution_count": 4,
   "id": "9be15b65",
   "metadata": {},
   "outputs": [
    {
     "data": {
      "text/html": [
       "<div>\n",
       "<style scoped>\n",
       "    .dataframe tbody tr th:only-of-type {\n",
       "        vertical-align: middle;\n",
       "    }\n",
       "\n",
       "    .dataframe tbody tr th {\n",
       "        vertical-align: top;\n",
       "    }\n",
       "\n",
       "    .dataframe thead th {\n",
       "        text-align: right;\n",
       "    }\n",
       "</style>\n",
       "<table border=\"1\" class=\"dataframe\">\n",
       "  <thead>\n",
       "    <tr style=\"text-align: right;\">\n",
       "      <th></th>\n",
       "      <th>First_name</th>\n",
       "      <th>Last_name</th>\n",
       "      <th>email</th>\n",
       "      <th>full_name</th>\n",
       "    </tr>\n",
       "  </thead>\n",
       "  <tbody>\n",
       "    <tr>\n",
       "      <th>0</th>\n",
       "      <td>Haripriya</td>\n",
       "      <td>karuna</td>\n",
       "      <td>haripriya@gmail.com</td>\n",
       "      <td>Haripriya karuna</td>\n",
       "    </tr>\n",
       "    <tr>\n",
       "      <th>1</th>\n",
       "      <td>Sathish</td>\n",
       "      <td>karuna</td>\n",
       "      <td>sathish@gmail.com</td>\n",
       "      <td>Sathish karuna</td>\n",
       "    </tr>\n",
       "    <tr>\n",
       "      <th>2</th>\n",
       "      <td>xyz</td>\n",
       "      <td>abc</td>\n",
       "      <td>xyzabc@gmail.com</td>\n",
       "      <td>xyz abc</td>\n",
       "    </tr>\n",
       "  </tbody>\n",
       "</table>\n",
       "</div>"
      ],
      "text/plain": [
       "  First_name Last_name                email         full_name\n",
       "0  Haripriya    karuna  haripriya@gmail.com  Haripriya karuna\n",
       "1    Sathish    karuna    sathish@gmail.com    Sathish karuna\n",
       "2        xyz       abc     xyzabc@gmail.com           xyz abc"
      ]
     },
     "execution_count": 4,
     "metadata": {},
     "output_type": "execute_result"
    }
   ],
   "source": [
    "# to make it as new column\n",
    "\n",
    "df[\"full_name\"] = df[\"First_name\"] + \" \" + df[\"Last_name\"]\n",
    "df"
   ]
  },
  {
   "cell_type": "code",
   "execution_count": 5,
   "id": "55249550",
   "metadata": {},
   "outputs": [
    {
     "data": {
      "text/html": [
       "<div>\n",
       "<style scoped>\n",
       "    .dataframe tbody tr th:only-of-type {\n",
       "        vertical-align: middle;\n",
       "    }\n",
       "\n",
       "    .dataframe tbody tr th {\n",
       "        vertical-align: top;\n",
       "    }\n",
       "\n",
       "    .dataframe thead th {\n",
       "        text-align: right;\n",
       "    }\n",
       "</style>\n",
       "<table border=\"1\" class=\"dataframe\">\n",
       "  <thead>\n",
       "    <tr style=\"text-align: right;\">\n",
       "      <th></th>\n",
       "      <th>email</th>\n",
       "      <th>full_name</th>\n",
       "    </tr>\n",
       "  </thead>\n",
       "  <tbody>\n",
       "    <tr>\n",
       "      <th>0</th>\n",
       "      <td>haripriya@gmail.com</td>\n",
       "      <td>Haripriya karuna</td>\n",
       "    </tr>\n",
       "    <tr>\n",
       "      <th>1</th>\n",
       "      <td>sathish@gmail.com</td>\n",
       "      <td>Sathish karuna</td>\n",
       "    </tr>\n",
       "    <tr>\n",
       "      <th>2</th>\n",
       "      <td>xyzabc@gmail.com</td>\n",
       "      <td>xyz abc</td>\n",
       "    </tr>\n",
       "  </tbody>\n",
       "</table>\n",
       "</div>"
      ],
      "text/plain": [
       "                 email         full_name\n",
       "0  haripriya@gmail.com  Haripriya karuna\n",
       "1    sathish@gmail.com    Sathish karuna\n",
       "2     xyzabc@gmail.com           xyz abc"
      ]
     },
     "execution_count": 5,
     "metadata": {},
     "output_type": "execute_result"
    }
   ],
   "source": [
    "# to delete a columns\n",
    "\n",
    "df.drop(columns = [\"First_name\",\"Last_name\"])"
   ]
  },
  {
   "cell_type": "code",
   "execution_count": 6,
   "id": "5bdd80b3",
   "metadata": {},
   "outputs": [
    {
     "data": {
      "text/html": [
       "<div>\n",
       "<style scoped>\n",
       "    .dataframe tbody tr th:only-of-type {\n",
       "        vertical-align: middle;\n",
       "    }\n",
       "\n",
       "    .dataframe tbody tr th {\n",
       "        vertical-align: top;\n",
       "    }\n",
       "\n",
       "    .dataframe thead th {\n",
       "        text-align: right;\n",
       "    }\n",
       "</style>\n",
       "<table border=\"1\" class=\"dataframe\">\n",
       "  <thead>\n",
       "    <tr style=\"text-align: right;\">\n",
       "      <th></th>\n",
       "      <th>First_name</th>\n",
       "      <th>Last_name</th>\n",
       "      <th>email</th>\n",
       "      <th>full_name</th>\n",
       "    </tr>\n",
       "  </thead>\n",
       "  <tbody>\n",
       "    <tr>\n",
       "      <th>0</th>\n",
       "      <td>Haripriya</td>\n",
       "      <td>karuna</td>\n",
       "      <td>haripriya@gmail.com</td>\n",
       "      <td>Haripriya karuna</td>\n",
       "    </tr>\n",
       "    <tr>\n",
       "      <th>1</th>\n",
       "      <td>Sathish</td>\n",
       "      <td>karuna</td>\n",
       "      <td>sathish@gmail.com</td>\n",
       "      <td>Sathish karuna</td>\n",
       "    </tr>\n",
       "    <tr>\n",
       "      <th>2</th>\n",
       "      <td>xyz</td>\n",
       "      <td>abc</td>\n",
       "      <td>xyzabc@gmail.com</td>\n",
       "      <td>xyz abc</td>\n",
       "    </tr>\n",
       "  </tbody>\n",
       "</table>\n",
       "</div>"
      ],
      "text/plain": [
       "  First_name Last_name                email         full_name\n",
       "0  Haripriya    karuna  haripriya@gmail.com  Haripriya karuna\n",
       "1    Sathish    karuna    sathish@gmail.com    Sathish karuna\n",
       "2        xyz       abc     xyzabc@gmail.com           xyz abc"
      ]
     },
     "execution_count": 6,
     "metadata": {},
     "output_type": "execute_result"
    }
   ],
   "source": [
    "df  # to make that change permanently"
   ]
  },
  {
   "cell_type": "code",
   "execution_count": 7,
   "id": "a237805d",
   "metadata": {},
   "outputs": [],
   "source": [
    "df.drop(columns = [\"First_name\",\"Last_name\"],inplace = True)"
   ]
  },
  {
   "cell_type": "code",
   "execution_count": 8,
   "id": "78123806",
   "metadata": {},
   "outputs": [
    {
     "data": {
      "text/html": [
       "<div>\n",
       "<style scoped>\n",
       "    .dataframe tbody tr th:only-of-type {\n",
       "        vertical-align: middle;\n",
       "    }\n",
       "\n",
       "    .dataframe tbody tr th {\n",
       "        vertical-align: top;\n",
       "    }\n",
       "\n",
       "    .dataframe thead th {\n",
       "        text-align: right;\n",
       "    }\n",
       "</style>\n",
       "<table border=\"1\" class=\"dataframe\">\n",
       "  <thead>\n",
       "    <tr style=\"text-align: right;\">\n",
       "      <th></th>\n",
       "      <th>email</th>\n",
       "      <th>full_name</th>\n",
       "    </tr>\n",
       "  </thead>\n",
       "  <tbody>\n",
       "    <tr>\n",
       "      <th>0</th>\n",
       "      <td>haripriya@gmail.com</td>\n",
       "      <td>Haripriya karuna</td>\n",
       "    </tr>\n",
       "    <tr>\n",
       "      <th>1</th>\n",
       "      <td>sathish@gmail.com</td>\n",
       "      <td>Sathish karuna</td>\n",
       "    </tr>\n",
       "    <tr>\n",
       "      <th>2</th>\n",
       "      <td>xyzabc@gmail.com</td>\n",
       "      <td>xyz abc</td>\n",
       "    </tr>\n",
       "  </tbody>\n",
       "</table>\n",
       "</div>"
      ],
      "text/plain": [
       "                 email         full_name\n",
       "0  haripriya@gmail.com  Haripriya karuna\n",
       "1    sathish@gmail.com    Sathish karuna\n",
       "2     xyzabc@gmail.com           xyz abc"
      ]
     },
     "execution_count": 8,
     "metadata": {},
     "output_type": "execute_result"
    }
   ],
   "source": [
    "df"
   ]
  },
  {
   "cell_type": "code",
   "execution_count": 9,
   "id": "743f0477",
   "metadata": {},
   "outputs": [
    {
     "data": {
      "text/plain": [
       "0    [Haripriya, karuna]\n",
       "1      [Sathish, karuna]\n",
       "2             [xyz, abc]\n",
       "Name: full_name, dtype: object"
      ]
     },
     "execution_count": 9,
     "metadata": {},
     "output_type": "execute_result"
    }
   ],
   "source": [
    "# Again if you want to split the full name into first and last\n",
    "\n",
    "df[\"full_name\"].str.split(\" \")"
   ]
  },
  {
   "cell_type": "code",
   "execution_count": 10,
   "id": "7e219d65",
   "metadata": {},
   "outputs": [
    {
     "data": {
      "text/html": [
       "<div>\n",
       "<style scoped>\n",
       "    .dataframe tbody tr th:only-of-type {\n",
       "        vertical-align: middle;\n",
       "    }\n",
       "\n",
       "    .dataframe tbody tr th {\n",
       "        vertical-align: top;\n",
       "    }\n",
       "\n",
       "    .dataframe thead th {\n",
       "        text-align: right;\n",
       "    }\n",
       "</style>\n",
       "<table border=\"1\" class=\"dataframe\">\n",
       "  <thead>\n",
       "    <tr style=\"text-align: right;\">\n",
       "      <th></th>\n",
       "      <th>0</th>\n",
       "      <th>1</th>\n",
       "    </tr>\n",
       "  </thead>\n",
       "  <tbody>\n",
       "    <tr>\n",
       "      <th>0</th>\n",
       "      <td>Haripriya</td>\n",
       "      <td>karuna</td>\n",
       "    </tr>\n",
       "    <tr>\n",
       "      <th>1</th>\n",
       "      <td>Sathish</td>\n",
       "      <td>karuna</td>\n",
       "    </tr>\n",
       "    <tr>\n",
       "      <th>2</th>\n",
       "      <td>xyz</td>\n",
       "      <td>abc</td>\n",
       "    </tr>\n",
       "  </tbody>\n",
       "</table>\n",
       "</div>"
      ],
      "text/plain": [
       "           0       1\n",
       "0  Haripriya  karuna\n",
       "1    Sathish  karuna\n",
       "2        xyz     abc"
      ]
     },
     "execution_count": 10,
     "metadata": {},
     "output_type": "execute_result"
    }
   ],
   "source": [
    "df[\"full_name\"].str.split(\" \",expand = True)"
   ]
  },
  {
   "cell_type": "code",
   "execution_count": 11,
   "id": "939595dc",
   "metadata": {},
   "outputs": [],
   "source": [
    "df[[\"First_name\",\"last_name\"]] = df[\"full_name\"].str.split(\" \",expand = True)"
   ]
  },
  {
   "cell_type": "code",
   "execution_count": 12,
   "id": "2719d3be",
   "metadata": {},
   "outputs": [
    {
     "data": {
      "text/html": [
       "<div>\n",
       "<style scoped>\n",
       "    .dataframe tbody tr th:only-of-type {\n",
       "        vertical-align: middle;\n",
       "    }\n",
       "\n",
       "    .dataframe tbody tr th {\n",
       "        vertical-align: top;\n",
       "    }\n",
       "\n",
       "    .dataframe thead th {\n",
       "        text-align: right;\n",
       "    }\n",
       "</style>\n",
       "<table border=\"1\" class=\"dataframe\">\n",
       "  <thead>\n",
       "    <tr style=\"text-align: right;\">\n",
       "      <th></th>\n",
       "      <th>email</th>\n",
       "      <th>full_name</th>\n",
       "      <th>First_name</th>\n",
       "      <th>last_name</th>\n",
       "    </tr>\n",
       "  </thead>\n",
       "  <tbody>\n",
       "    <tr>\n",
       "      <th>0</th>\n",
       "      <td>haripriya@gmail.com</td>\n",
       "      <td>Haripriya karuna</td>\n",
       "      <td>Haripriya</td>\n",
       "      <td>karuna</td>\n",
       "    </tr>\n",
       "    <tr>\n",
       "      <th>1</th>\n",
       "      <td>sathish@gmail.com</td>\n",
       "      <td>Sathish karuna</td>\n",
       "      <td>Sathish</td>\n",
       "      <td>karuna</td>\n",
       "    </tr>\n",
       "    <tr>\n",
       "      <th>2</th>\n",
       "      <td>xyzabc@gmail.com</td>\n",
       "      <td>xyz abc</td>\n",
       "      <td>xyz</td>\n",
       "      <td>abc</td>\n",
       "    </tr>\n",
       "  </tbody>\n",
       "</table>\n",
       "</div>"
      ],
      "text/plain": [
       "                 email         full_name First_name last_name\n",
       "0  haripriya@gmail.com  Haripriya karuna  Haripriya    karuna\n",
       "1    sathish@gmail.com    Sathish karuna    Sathish    karuna\n",
       "2     xyzabc@gmail.com           xyz abc        xyz       abc"
      ]
     },
     "execution_count": 12,
     "metadata": {},
     "output_type": "execute_result"
    }
   ],
   "source": [
    "df"
   ]
  },
  {
   "cell_type": "code",
   "execution_count": 13,
   "id": "a1bf2dbd",
   "metadata": {},
   "outputs": [
    {
     "ename": "TypeError",
     "evalue": "Can only append a dict if ignore_index=True",
     "output_type": "error",
     "traceback": [
      "\u001b[1;31m---------------------------------------------------------------------------\u001b[0m",
      "\u001b[1;31mTypeError\u001b[0m                                 Traceback (most recent call last)",
      "\u001b[1;32m~\\AppData\\Local\\Temp\\ipykernel_15408\\1212139196.py\u001b[0m in \u001b[0;36m?\u001b[1;34m()\u001b[0m\n\u001b[1;32m----> 3\u001b[1;33m \u001b[1;31m# to add a new row with single data\u001b[0m\u001b[1;33m\u001b[0m\u001b[1;33m\u001b[0m\u001b[0m\n\u001b[0m\u001b[0;32m      4\u001b[0m \u001b[1;33m\u001b[0m\u001b[0m\n\u001b[0;32m      5\u001b[0m \u001b[0mdf\u001b[0m\u001b[1;33m.\u001b[0m\u001b[0mappend\u001b[0m\u001b[1;33m(\u001b[0m\u001b[1;33m{\u001b[0m\u001b[1;34m\"First_name\"\u001b[0m \u001b[1;33m:\u001b[0m \u001b[1;34m\"Krishnaveni\"\u001b[0m\u001b[1;33m}\u001b[0m\u001b[1;33m)\u001b[0m \u001b[1;31m# Can only append a dict if ignore_index=True\u001b[0m\u001b[1;33m\u001b[0m\u001b[1;33m\u001b[0m\u001b[0m\n",
      "\u001b[1;32m~\\anaconda3\\lib\\site-packages\\pandas\\core\\frame.py\u001b[0m in \u001b[0;36m?\u001b[1;34m(self, other, ignore_index, verify_integrity, sort)\u001b[0m\n\u001b[0;32m   8927\u001b[0m         \"\"\"\n\u001b[0;32m   8928\u001b[0m         \u001b[1;32mif\u001b[0m \u001b[0misinstance\u001b[0m\u001b[1;33m(\u001b[0m\u001b[0mother\u001b[0m\u001b[1;33m,\u001b[0m \u001b[1;33m(\u001b[0m\u001b[0mSeries\u001b[0m\u001b[1;33m,\u001b[0m \u001b[0mdict\u001b[0m\u001b[1;33m)\u001b[0m\u001b[1;33m)\u001b[0m\u001b[1;33m:\u001b[0m\u001b[1;33m\u001b[0m\u001b[1;33m\u001b[0m\u001b[0m\n\u001b[0;32m   8929\u001b[0m             \u001b[1;32mif\u001b[0m \u001b[0misinstance\u001b[0m\u001b[1;33m(\u001b[0m\u001b[0mother\u001b[0m\u001b[1;33m,\u001b[0m \u001b[0mdict\u001b[0m\u001b[1;33m)\u001b[0m\u001b[1;33m:\u001b[0m\u001b[1;33m\u001b[0m\u001b[1;33m\u001b[0m\u001b[0m\n\u001b[0;32m   8930\u001b[0m                 \u001b[1;32mif\u001b[0m \u001b[1;32mnot\u001b[0m \u001b[0mignore_index\u001b[0m\u001b[1;33m:\u001b[0m\u001b[1;33m\u001b[0m\u001b[1;33m\u001b[0m\u001b[0m\n\u001b[1;32m-> 8931\u001b[1;33m                     \u001b[1;32mraise\u001b[0m \u001b[0mTypeError\u001b[0m\u001b[1;33m(\u001b[0m\u001b[1;34m\"Can only append a dict if ignore_index=True\"\u001b[0m\u001b[1;33m)\u001b[0m\u001b[1;33m\u001b[0m\u001b[1;33m\u001b[0m\u001b[0m\n\u001b[0m\u001b[0;32m   8932\u001b[0m                 \u001b[0mother\u001b[0m \u001b[1;33m=\u001b[0m \u001b[0mSeries\u001b[0m\u001b[1;33m(\u001b[0m\u001b[0mother\u001b[0m\u001b[1;33m)\u001b[0m\u001b[1;33m\u001b[0m\u001b[1;33m\u001b[0m\u001b[0m\n\u001b[0;32m   8933\u001b[0m             \u001b[1;32mif\u001b[0m \u001b[0mother\u001b[0m\u001b[1;33m.\u001b[0m\u001b[0mname\u001b[0m \u001b[1;32mis\u001b[0m \u001b[1;32mNone\u001b[0m \u001b[1;32mand\u001b[0m \u001b[1;32mnot\u001b[0m \u001b[0mignore_index\u001b[0m\u001b[1;33m:\u001b[0m\u001b[1;33m\u001b[0m\u001b[1;33m\u001b[0m\u001b[0m\n\u001b[0;32m   8934\u001b[0m                 raise TypeError(\n",
      "\u001b[1;31mTypeError\u001b[0m: Can only append a dict if ignore_index=True"
     ]
    }
   ],
   "source": [
    "# to add a new row with single data\n",
    "\n",
    "df.append({\"First_name\" : \"Krishnaveni\"}) # Can only append a dict if ignore_index=True"
   ]
  },
  {
   "cell_type": "code",
   "execution_count": 14,
   "id": "840c1cbc",
   "metadata": {},
   "outputs": [
    {
     "data": {
      "text/html": [
       "<div>\n",
       "<style scoped>\n",
       "    .dataframe tbody tr th:only-of-type {\n",
       "        vertical-align: middle;\n",
       "    }\n",
       "\n",
       "    .dataframe tbody tr th {\n",
       "        vertical-align: top;\n",
       "    }\n",
       "\n",
       "    .dataframe thead th {\n",
       "        text-align: right;\n",
       "    }\n",
       "</style>\n",
       "<table border=\"1\" class=\"dataframe\">\n",
       "  <thead>\n",
       "    <tr style=\"text-align: right;\">\n",
       "      <th></th>\n",
       "      <th>email</th>\n",
       "      <th>full_name</th>\n",
       "      <th>First_name</th>\n",
       "      <th>last_name</th>\n",
       "    </tr>\n",
       "  </thead>\n",
       "  <tbody>\n",
       "    <tr>\n",
       "      <th>0</th>\n",
       "      <td>haripriya@gmail.com</td>\n",
       "      <td>Haripriya karuna</td>\n",
       "      <td>Haripriya</td>\n",
       "      <td>karuna</td>\n",
       "    </tr>\n",
       "    <tr>\n",
       "      <th>1</th>\n",
       "      <td>sathish@gmail.com</td>\n",
       "      <td>Sathish karuna</td>\n",
       "      <td>Sathish</td>\n",
       "      <td>karuna</td>\n",
       "    </tr>\n",
       "    <tr>\n",
       "      <th>2</th>\n",
       "      <td>xyzabc@gmail.com</td>\n",
       "      <td>xyz abc</td>\n",
       "      <td>xyz</td>\n",
       "      <td>abc</td>\n",
       "    </tr>\n",
       "    <tr>\n",
       "      <th>3</th>\n",
       "      <td>NaN</td>\n",
       "      <td>NaN</td>\n",
       "      <td>Krishnaveni</td>\n",
       "      <td>NaN</td>\n",
       "    </tr>\n",
       "  </tbody>\n",
       "</table>\n",
       "</div>"
      ],
      "text/plain": [
       "                 email         full_name   First_name last_name\n",
       "0  haripriya@gmail.com  Haripriya karuna    Haripriya    karuna\n",
       "1    sathish@gmail.com    Sathish karuna      Sathish    karuna\n",
       "2     xyzabc@gmail.com           xyz abc          xyz       abc\n",
       "3                  NaN               NaN  Krishnaveni       NaN"
      ]
     },
     "execution_count": 14,
     "metadata": {},
     "output_type": "execute_result"
    }
   ],
   "source": [
    "df.append({\"First_name\" : \"Krishnaveni\"},ignore_index = True)"
   ]
  },
  {
   "cell_type": "code",
   "execution_count": 15,
   "id": "2655786c",
   "metadata": {},
   "outputs": [
    {
     "data": {
      "text/html": [
       "<div>\n",
       "<style scoped>\n",
       "    .dataframe tbody tr th:only-of-type {\n",
       "        vertical-align: middle;\n",
       "    }\n",
       "\n",
       "    .dataframe tbody tr th {\n",
       "        vertical-align: top;\n",
       "    }\n",
       "\n",
       "    .dataframe thead th {\n",
       "        text-align: right;\n",
       "    }\n",
       "</style>\n",
       "<table border=\"1\" class=\"dataframe\">\n",
       "  <thead>\n",
       "    <tr style=\"text-align: right;\">\n",
       "      <th></th>\n",
       "      <th>email</th>\n",
       "      <th>full_name</th>\n",
       "      <th>First_name</th>\n",
       "      <th>last_name</th>\n",
       "    </tr>\n",
       "  </thead>\n",
       "  <tbody>\n",
       "    <tr>\n",
       "      <th>0</th>\n",
       "      <td>haripriya@gmail.com</td>\n",
       "      <td>Haripriya karuna</td>\n",
       "      <td>Haripriya</td>\n",
       "      <td>karuna</td>\n",
       "    </tr>\n",
       "    <tr>\n",
       "      <th>1</th>\n",
       "      <td>sathish@gmail.com</td>\n",
       "      <td>Sathish karuna</td>\n",
       "      <td>Sathish</td>\n",
       "      <td>karuna</td>\n",
       "    </tr>\n",
       "    <tr>\n",
       "      <th>2</th>\n",
       "      <td>xyzabc@gmail.com</td>\n",
       "      <td>xyz abc</td>\n",
       "      <td>xyz</td>\n",
       "      <td>abc</td>\n",
       "    </tr>\n",
       "    <tr>\n",
       "      <th>3</th>\n",
       "      <td>krish@gmail.com</td>\n",
       "      <td>krishnaveni k</td>\n",
       "      <td>Krishnaveni</td>\n",
       "      <td>K</td>\n",
       "    </tr>\n",
       "  </tbody>\n",
       "</table>\n",
       "</div>"
      ],
      "text/plain": [
       "                 email         full_name   First_name last_name\n",
       "0  haripriya@gmail.com  Haripriya karuna    Haripriya    karuna\n",
       "1    sathish@gmail.com    Sathish karuna      Sathish    karuna\n",
       "2     xyzabc@gmail.com           xyz abc          xyz       abc\n",
       "3      krish@gmail.com     krishnaveni k  Krishnaveni         K"
      ]
     },
     "execution_count": 15,
     "metadata": {},
     "output_type": "execute_result"
    }
   ],
   "source": [
    "# by the approach , we can add multiple data in a new row\n",
    "\n",
    "df.append({\"First_name\" : \"Krishnaveni\",\"email\" : \"krish@gmail.com\",\n",
    "           \"full_name\" : \"krishnaveni k\",\"last_name\" : \"K\"},ignore_index = True)"
   ]
  },
  {
   "cell_type": "code",
   "execution_count": 16,
   "id": "1f027568",
   "metadata": {},
   "outputs": [],
   "source": [
    "df = df.append({\"First_name\" : \"Krishnaveni\",\"email\" : \"krish@gmail.com\",\n",
    "           \"full_name\" : \"krishnaveni k\",\"last_name\" : \"K\"},ignore_index = True)"
   ]
  },
  {
   "cell_type": "code",
   "execution_count": 17,
   "id": "07c7ec50",
   "metadata": {},
   "outputs": [
    {
     "data": {
      "text/html": [
       "<div>\n",
       "<style scoped>\n",
       "    .dataframe tbody tr th:only-of-type {\n",
       "        vertical-align: middle;\n",
       "    }\n",
       "\n",
       "    .dataframe tbody tr th {\n",
       "        vertical-align: top;\n",
       "    }\n",
       "\n",
       "    .dataframe thead th {\n",
       "        text-align: right;\n",
       "    }\n",
       "</style>\n",
       "<table border=\"1\" class=\"dataframe\">\n",
       "  <thead>\n",
       "    <tr style=\"text-align: right;\">\n",
       "      <th></th>\n",
       "      <th>email</th>\n",
       "      <th>full_name</th>\n",
       "      <th>First_name</th>\n",
       "      <th>last_name</th>\n",
       "    </tr>\n",
       "  </thead>\n",
       "  <tbody>\n",
       "    <tr>\n",
       "      <th>0</th>\n",
       "      <td>haripriya@gmail.com</td>\n",
       "      <td>Haripriya karuna</td>\n",
       "      <td>Haripriya</td>\n",
       "      <td>karuna</td>\n",
       "    </tr>\n",
       "    <tr>\n",
       "      <th>1</th>\n",
       "      <td>sathish@gmail.com</td>\n",
       "      <td>Sathish karuna</td>\n",
       "      <td>Sathish</td>\n",
       "      <td>karuna</td>\n",
       "    </tr>\n",
       "    <tr>\n",
       "      <th>2</th>\n",
       "      <td>xyzabc@gmail.com</td>\n",
       "      <td>xyz abc</td>\n",
       "      <td>xyz</td>\n",
       "      <td>abc</td>\n",
       "    </tr>\n",
       "    <tr>\n",
       "      <th>3</th>\n",
       "      <td>krish@gmail.com</td>\n",
       "      <td>krishnaveni k</td>\n",
       "      <td>Krishnaveni</td>\n",
       "      <td>K</td>\n",
       "    </tr>\n",
       "  </tbody>\n",
       "</table>\n",
       "</div>"
      ],
      "text/plain": [
       "                 email         full_name   First_name last_name\n",
       "0  haripriya@gmail.com  Haripriya karuna    Haripriya    karuna\n",
       "1    sathish@gmail.com    Sathish karuna      Sathish    karuna\n",
       "2     xyzabc@gmail.com           xyz abc          xyz       abc\n",
       "3      krish@gmail.com     krishnaveni k  Krishnaveni         K"
      ]
     },
     "execution_count": 17,
     "metadata": {},
     "output_type": "execute_result"
    }
   ],
   "source": [
    "df"
   ]
  },
  {
   "cell_type": "code",
   "execution_count": 18,
   "id": "d52de403",
   "metadata": {},
   "outputs": [],
   "source": [
    "# to combine a dataframe into another dataframe\n",
    "\n",
    "people1 = {\"full_name\" : [\"Kumari K\",\"puppy cute\"],\"First_name\" : [\"Kumari\",\"puppy\"],\n",
    "         \"last_name\" : [\"K\",\"cute\"],\"email\" : [\"kumari@gmail.com\",\"puppy@gmail.com\"]}"
   ]
  },
  {
   "cell_type": "code",
   "execution_count": 19,
   "id": "8537b9e6",
   "metadata": {},
   "outputs": [],
   "source": [
    "df1 = pd.DataFrame(people1)"
   ]
  },
  {
   "cell_type": "code",
   "execution_count": 20,
   "id": "7d24f016",
   "metadata": {},
   "outputs": [
    {
     "data": {
      "text/html": [
       "<div>\n",
       "<style scoped>\n",
       "    .dataframe tbody tr th:only-of-type {\n",
       "        vertical-align: middle;\n",
       "    }\n",
       "\n",
       "    .dataframe tbody tr th {\n",
       "        vertical-align: top;\n",
       "    }\n",
       "\n",
       "    .dataframe thead th {\n",
       "        text-align: right;\n",
       "    }\n",
       "</style>\n",
       "<table border=\"1\" class=\"dataframe\">\n",
       "  <thead>\n",
       "    <tr style=\"text-align: right;\">\n",
       "      <th></th>\n",
       "      <th>full_name</th>\n",
       "      <th>First_name</th>\n",
       "      <th>last_name</th>\n",
       "      <th>email</th>\n",
       "    </tr>\n",
       "  </thead>\n",
       "  <tbody>\n",
       "    <tr>\n",
       "      <th>0</th>\n",
       "      <td>Kumari K</td>\n",
       "      <td>Kumari</td>\n",
       "      <td>K</td>\n",
       "      <td>kumari@gmail.com</td>\n",
       "    </tr>\n",
       "    <tr>\n",
       "      <th>1</th>\n",
       "      <td>puppy cute</td>\n",
       "      <td>puppy</td>\n",
       "      <td>cute</td>\n",
       "      <td>puppy@gmail.com</td>\n",
       "    </tr>\n",
       "  </tbody>\n",
       "</table>\n",
       "</div>"
      ],
      "text/plain": [
       "    full_name First_name last_name             email\n",
       "0    Kumari K     Kumari         K  kumari@gmail.com\n",
       "1  puppy cute      puppy      cute   puppy@gmail.com"
      ]
     },
     "execution_count": 20,
     "metadata": {},
     "output_type": "execute_result"
    }
   ],
   "source": [
    "df1"
   ]
  },
  {
   "cell_type": "code",
   "execution_count": 21,
   "id": "5ccace5b",
   "metadata": {},
   "outputs": [
    {
     "data": {
      "text/html": [
       "<div>\n",
       "<style scoped>\n",
       "    .dataframe tbody tr th:only-of-type {\n",
       "        vertical-align: middle;\n",
       "    }\n",
       "\n",
       "    .dataframe tbody tr th {\n",
       "        vertical-align: top;\n",
       "    }\n",
       "\n",
       "    .dataframe thead th {\n",
       "        text-align: right;\n",
       "    }\n",
       "</style>\n",
       "<table border=\"1\" class=\"dataframe\">\n",
       "  <thead>\n",
       "    <tr style=\"text-align: right;\">\n",
       "      <th></th>\n",
       "      <th>email</th>\n",
       "      <th>full_name</th>\n",
       "      <th>First_name</th>\n",
       "      <th>last_name</th>\n",
       "    </tr>\n",
       "  </thead>\n",
       "  <tbody>\n",
       "    <tr>\n",
       "      <th>0</th>\n",
       "      <td>haripriya@gmail.com</td>\n",
       "      <td>Haripriya karuna</td>\n",
       "      <td>Haripriya</td>\n",
       "      <td>karuna</td>\n",
       "    </tr>\n",
       "    <tr>\n",
       "      <th>1</th>\n",
       "      <td>sathish@gmail.com</td>\n",
       "      <td>Sathish karuna</td>\n",
       "      <td>Sathish</td>\n",
       "      <td>karuna</td>\n",
       "    </tr>\n",
       "    <tr>\n",
       "      <th>2</th>\n",
       "      <td>xyzabc@gmail.com</td>\n",
       "      <td>xyz abc</td>\n",
       "      <td>xyz</td>\n",
       "      <td>abc</td>\n",
       "    </tr>\n",
       "    <tr>\n",
       "      <th>3</th>\n",
       "      <td>krish@gmail.com</td>\n",
       "      <td>krishnaveni k</td>\n",
       "      <td>Krishnaveni</td>\n",
       "      <td>K</td>\n",
       "    </tr>\n",
       "    <tr>\n",
       "      <th>4</th>\n",
       "      <td>kumari@gmail.com</td>\n",
       "      <td>Kumari K</td>\n",
       "      <td>Kumari</td>\n",
       "      <td>K</td>\n",
       "    </tr>\n",
       "    <tr>\n",
       "      <th>5</th>\n",
       "      <td>puppy@gmail.com</td>\n",
       "      <td>puppy cute</td>\n",
       "      <td>puppy</td>\n",
       "      <td>cute</td>\n",
       "    </tr>\n",
       "  </tbody>\n",
       "</table>\n",
       "</div>"
      ],
      "text/plain": [
       "                 email         full_name   First_name last_name\n",
       "0  haripriya@gmail.com  Haripriya karuna    Haripriya    karuna\n",
       "1    sathish@gmail.com    Sathish karuna      Sathish    karuna\n",
       "2     xyzabc@gmail.com           xyz abc          xyz       abc\n",
       "3      krish@gmail.com     krishnaveni k  Krishnaveni         K\n",
       "4     kumari@gmail.com          Kumari K       Kumari         K\n",
       "5      puppy@gmail.com        puppy cute        puppy      cute"
      ]
     },
     "execution_count": 21,
     "metadata": {},
     "output_type": "execute_result"
    }
   ],
   "source": [
    "df.append(df1,ignore_index = True)  # got appended"
   ]
  },
  {
   "cell_type": "code",
   "execution_count": 22,
   "id": "6807fdcd",
   "metadata": {},
   "outputs": [
    {
     "data": {
      "text/html": [
       "<div>\n",
       "<style scoped>\n",
       "    .dataframe tbody tr th:only-of-type {\n",
       "        vertical-align: middle;\n",
       "    }\n",
       "\n",
       "    .dataframe tbody tr th {\n",
       "        vertical-align: top;\n",
       "    }\n",
       "\n",
       "    .dataframe thead th {\n",
       "        text-align: right;\n",
       "    }\n",
       "</style>\n",
       "<table border=\"1\" class=\"dataframe\">\n",
       "  <thead>\n",
       "    <tr style=\"text-align: right;\">\n",
       "      <th></th>\n",
       "      <th>email</th>\n",
       "      <th>full_name</th>\n",
       "      <th>First_name</th>\n",
       "      <th>last_name</th>\n",
       "    </tr>\n",
       "  </thead>\n",
       "  <tbody>\n",
       "    <tr>\n",
       "      <th>0</th>\n",
       "      <td>haripriya@gmail.com</td>\n",
       "      <td>Haripriya karuna</td>\n",
       "      <td>Haripriya</td>\n",
       "      <td>karuna</td>\n",
       "    </tr>\n",
       "    <tr>\n",
       "      <th>1</th>\n",
       "      <td>sathish@gmail.com</td>\n",
       "      <td>Sathish karuna</td>\n",
       "      <td>Sathish</td>\n",
       "      <td>karuna</td>\n",
       "    </tr>\n",
       "    <tr>\n",
       "      <th>2</th>\n",
       "      <td>xyzabc@gmail.com</td>\n",
       "      <td>xyz abc</td>\n",
       "      <td>xyz</td>\n",
       "      <td>abc</td>\n",
       "    </tr>\n",
       "    <tr>\n",
       "      <th>3</th>\n",
       "      <td>krish@gmail.com</td>\n",
       "      <td>krishnaveni k</td>\n",
       "      <td>Krishnaveni</td>\n",
       "      <td>K</td>\n",
       "    </tr>\n",
       "    <tr>\n",
       "      <th>4</th>\n",
       "      <td>kumari@gmail.com</td>\n",
       "      <td>Kumari K</td>\n",
       "      <td>Kumari</td>\n",
       "      <td>K</td>\n",
       "    </tr>\n",
       "    <tr>\n",
       "      <th>5</th>\n",
       "      <td>puppy@gmail.com</td>\n",
       "      <td>puppy cute</td>\n",
       "      <td>puppy</td>\n",
       "      <td>cute</td>\n",
       "    </tr>\n",
       "  </tbody>\n",
       "</table>\n",
       "</div>"
      ],
      "text/plain": [
       "                 email         full_name   First_name last_name\n",
       "0  haripriya@gmail.com  Haripriya karuna    Haripriya    karuna\n",
       "1    sathish@gmail.com    Sathish karuna      Sathish    karuna\n",
       "2     xyzabc@gmail.com           xyz abc          xyz       abc\n",
       "3      krish@gmail.com     krishnaveni k  Krishnaveni         K\n",
       "4     kumari@gmail.com          Kumari K       Kumari         K\n",
       "5      puppy@gmail.com        puppy cute        puppy      cute"
      ]
     },
     "execution_count": 22,
     "metadata": {},
     "output_type": "execute_result"
    }
   ],
   "source": [
    "df = df.append(df1,ignore_index = True)\n",
    "df"
   ]
  },
  {
   "cell_type": "code",
   "execution_count": 23,
   "id": "d683a51b",
   "metadata": {},
   "outputs": [],
   "source": [
    "# when we create a dataframe to combine with other dataframe, if any columns are not present as per the other column it will give NaN when we add data\n",
    "# it will give some warning but anyway it is going to give output but if we dont want to get warning we use sort\n",
    "\n",
    "# eg.\n",
    "# df.append(df1,ignore_index = True,sort = False) "
   ]
  },
  {
   "cell_type": "code",
   "execution_count": 24,
   "id": "a4d6842a",
   "metadata": {},
   "outputs": [],
   "source": [
    "# when we want to remove a row, we can do that using drop with index\n",
    "\n",
    "df = df.drop(index = 5) # 5th index which is puppy has been removed"
   ]
  },
  {
   "cell_type": "code",
   "execution_count": 25,
   "id": "ccddb73e",
   "metadata": {},
   "outputs": [
    {
     "data": {
      "text/html": [
       "<div>\n",
       "<style scoped>\n",
       "    .dataframe tbody tr th:only-of-type {\n",
       "        vertical-align: middle;\n",
       "    }\n",
       "\n",
       "    .dataframe tbody tr th {\n",
       "        vertical-align: top;\n",
       "    }\n",
       "\n",
       "    .dataframe thead th {\n",
       "        text-align: right;\n",
       "    }\n",
       "</style>\n",
       "<table border=\"1\" class=\"dataframe\">\n",
       "  <thead>\n",
       "    <tr style=\"text-align: right;\">\n",
       "      <th></th>\n",
       "      <th>email</th>\n",
       "      <th>full_name</th>\n",
       "      <th>First_name</th>\n",
       "      <th>last_name</th>\n",
       "    </tr>\n",
       "  </thead>\n",
       "  <tbody>\n",
       "    <tr>\n",
       "      <th>0</th>\n",
       "      <td>haripriya@gmail.com</td>\n",
       "      <td>Haripriya karuna</td>\n",
       "      <td>Haripriya</td>\n",
       "      <td>karuna</td>\n",
       "    </tr>\n",
       "    <tr>\n",
       "      <th>1</th>\n",
       "      <td>sathish@gmail.com</td>\n",
       "      <td>Sathish karuna</td>\n",
       "      <td>Sathish</td>\n",
       "      <td>karuna</td>\n",
       "    </tr>\n",
       "    <tr>\n",
       "      <th>2</th>\n",
       "      <td>xyzabc@gmail.com</td>\n",
       "      <td>xyz abc</td>\n",
       "      <td>xyz</td>\n",
       "      <td>abc</td>\n",
       "    </tr>\n",
       "    <tr>\n",
       "      <th>3</th>\n",
       "      <td>krish@gmail.com</td>\n",
       "      <td>krishnaveni k</td>\n",
       "      <td>Krishnaveni</td>\n",
       "      <td>K</td>\n",
       "    </tr>\n",
       "    <tr>\n",
       "      <th>4</th>\n",
       "      <td>kumari@gmail.com</td>\n",
       "      <td>Kumari K</td>\n",
       "      <td>Kumari</td>\n",
       "      <td>K</td>\n",
       "    </tr>\n",
       "  </tbody>\n",
       "</table>\n",
       "</div>"
      ],
      "text/plain": [
       "                 email         full_name   First_name last_name\n",
       "0  haripriya@gmail.com  Haripriya karuna    Haripriya    karuna\n",
       "1    sathish@gmail.com    Sathish karuna      Sathish    karuna\n",
       "2     xyzabc@gmail.com           xyz abc          xyz       abc\n",
       "3      krish@gmail.com     krishnaveni k  Krishnaveni         K\n",
       "4     kumari@gmail.com          Kumari K       Kumari         K"
      ]
     },
     "execution_count": 25,
     "metadata": {},
     "output_type": "execute_result"
    }
   ],
   "source": [
    "df"
   ]
  },
  {
   "cell_type": "code",
   "execution_count": 28,
   "id": "d58b79c9",
   "metadata": {},
   "outputs": [
    {
     "data": {
      "text/html": [
       "<div>\n",
       "<style scoped>\n",
       "    .dataframe tbody tr th:only-of-type {\n",
       "        vertical-align: middle;\n",
       "    }\n",
       "\n",
       "    .dataframe tbody tr th {\n",
       "        vertical-align: top;\n",
       "    }\n",
       "\n",
       "    .dataframe thead th {\n",
       "        text-align: right;\n",
       "    }\n",
       "</style>\n",
       "<table border=\"1\" class=\"dataframe\">\n",
       "  <thead>\n",
       "    <tr style=\"text-align: right;\">\n",
       "      <th></th>\n",
       "      <th>email</th>\n",
       "      <th>full_name</th>\n",
       "      <th>First_name</th>\n",
       "      <th>last_name</th>\n",
       "    </tr>\n",
       "  </thead>\n",
       "  <tbody>\n",
       "    <tr>\n",
       "      <th>2</th>\n",
       "      <td>xyzabc@gmail.com</td>\n",
       "      <td>xyz abc</td>\n",
       "      <td>xyz</td>\n",
       "      <td>abc</td>\n",
       "    </tr>\n",
       "    <tr>\n",
       "      <th>3</th>\n",
       "      <td>krish@gmail.com</td>\n",
       "      <td>krishnaveni k</td>\n",
       "      <td>Krishnaveni</td>\n",
       "      <td>K</td>\n",
       "    </tr>\n",
       "    <tr>\n",
       "      <th>4</th>\n",
       "      <td>kumari@gmail.com</td>\n",
       "      <td>Kumari K</td>\n",
       "      <td>Kumari</td>\n",
       "      <td>K</td>\n",
       "    </tr>\n",
       "  </tbody>\n",
       "</table>\n",
       "</div>"
      ],
      "text/plain": [
       "              email      full_name   First_name last_name\n",
       "2  xyzabc@gmail.com        xyz abc          xyz       abc\n",
       "3   krish@gmail.com  krishnaveni k  Krishnaveni         K\n",
       "4  kumari@gmail.com       Kumari K       Kumari         K"
      ]
     },
     "execution_count": 28,
     "metadata": {},
     "output_type": "execute_result"
    }
   ],
   "source": [
    "# to remove a data in a column with an condition like last_name of \"karuna\" remove\n",
    "\n",
    "filt = df[\"last_name\"] == \"karuna\"\n",
    "df.drop(index = df[filt].index)      # now the row that contained last name of karuna is removed"
   ]
  },
  {
   "cell_type": "code",
   "execution_count": null,
   "id": "7f6101d6",
   "metadata": {},
   "outputs": [],
   "source": []
  }
 ],
 "metadata": {
  "kernelspec": {
   "display_name": "Python 3 (ipykernel)",
   "language": "python",
   "name": "python3"
  },
  "language_info": {
   "codemirror_mode": {
    "name": "ipython",
    "version": 3
   },
   "file_extension": ".py",
   "mimetype": "text/x-python",
   "name": "python",
   "nbconvert_exporter": "python",
   "pygments_lexer": "ipython3",
   "version": "3.9.19"
  }
 },
 "nbformat": 4,
 "nbformat_minor": 5
}
